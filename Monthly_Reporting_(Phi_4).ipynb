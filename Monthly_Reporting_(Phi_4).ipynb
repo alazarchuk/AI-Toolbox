{
  "cells": [
    {
      "cell_type": "markdown",
      "metadata": {
        "id": "view-in-github",
        "colab_type": "text"
      },
      "source": [
        "<a href=\"https://colab.research.google.com/github/alazarchuk/AI-Toolbox/blob/main/Monthly_Reporting_(Phi_4).ipynb\" target=\"_parent\"><img src=\"https://colab.research.google.com/assets/colab-badge.svg\" alt=\"Open In Colab\"/></a>"
      ]
    },
    {
      "cell_type": "code",
      "execution_count": null,
      "metadata": {
        "id": "gcvt0i_yf2BL"
      },
      "outputs": [],
      "source": [
        "!pip install -q -U transformers\n",
        "!pip install -q -U accelerate\n",
        "!pip install -q -U bitsandbytes"
      ]
    },
    {
      "cell_type": "code",
      "execution_count": null,
      "metadata": {
        "id": "qTbNHR4IeFpD"
      },
      "outputs": [],
      "source": [
        "import torch\n",
        "\n",
        "from transformers import (\n",
        "    AutoModelForCausalLM,\n",
        "    AutoTokenizer,\n",
        "    BitsAndBytesConfig,\n",
        "    pipeline\n",
        ")\n"
      ]
    },
    {
      "cell_type": "code",
      "execution_count": null,
      "metadata": {
        "id": "5UA5ObeUA8m6"
      },
      "outputs": [],
      "source": [
        "model_path = \"microsoft/phi-4\""
      ]
    },
    {
      "cell_type": "code",
      "execution_count": null,
      "metadata": {
        "id": "6UGnLKzxlU55"
      },
      "outputs": [],
      "source": [
        "tokenizer = AutoTokenizer.from_pretrained(model_path)"
      ]
    },
    {
      "cell_type": "code",
      "execution_count": null,
      "metadata": {
        "id": "jmVQKkMI9AZQ"
      },
      "outputs": [],
      "source": [
        "bnb_config = BitsAndBytesConfig(\n",
        "        load_in_4bit=True,\n",
        "        bnb_4bit_use_double_quant=True,\n",
        "        bnb_4bit_quant_type=\"nf4\")\n",
        "summarization_model = AutoModelForCausalLM.from_pretrained(\n",
        "          model_path, quantization_config=bnb_config, device_map=\"auto\"\n",
        ")"
      ]
    },
    {
      "cell_type": "code",
      "execution_count": null,
      "metadata": {
        "id": "RCPM0SAEjEUZ"
      },
      "outputs": [],
      "source": [
        "pipe = pipeline(\n",
        "    \"text-generation\",\n",
        "    model=summarization_model,\n",
        "    tokenizer=tokenizer,\n",
        ")\n",
        "\n",
        "generation_args = {\n",
        "    \"max_new_tokens\": 1000,\n",
        "    \"return_full_text\": False,\n",
        "    \"temperature\": 0.0,\n",
        "    \"do_sample\": False,\n",
        "}"
      ]
    },
    {
      "cell_type": "code",
      "execution_count": null,
      "metadata": {
        "id": "YsFDkkQefDub"
      },
      "outputs": [],
      "source": [
        "from datetime import datetime"
      ]
    },
    {
      "cell_type": "code",
      "execution_count": null,
      "metadata": {
        "id": "eHMpErRTxWp9"
      },
      "outputs": [],
      "source": [
        "date_start = datetime.fromisoformat(\"2025-05-01\")\n",
        "date_end = datetime.fromisoformat(\"2025-06-01\")\n",
        "author_filter = \"alazarchuk\""
      ]
    },
    {
      "cell_type": "code",
      "execution_count": null,
      "metadata": {
        "id": "Y7ePi4dBx5kU"
      },
      "outputs": [],
      "source": [
        "print(date_start)\n",
        "print(date_end)"
      ]
    },
    {
      "cell_type": "code",
      "execution_count": null,
      "metadata": {
        "id": "wdSVMOYReT4j"
      },
      "outputs": [],
      "source": [
        "!pip install -q -U PyGithub"
      ]
    },
    {
      "cell_type": "code",
      "execution_count": null,
      "metadata": {
        "id": "NgZSRT2reuHL"
      },
      "outputs": [],
      "source": [
        "from google.colab import userdata\n",
        "from github import Github\n",
        "from github import Auth\n",
        "from collections import defaultdict\n",
        "\n",
        "access_token = userdata.get('GITHUB_TOKEN')\n",
        "github_organizations = userdata.get('GITHUB_ORGANIZATIONS').split(\",\")\n",
        "\n",
        "auth = Auth.Token(access_token)\n",
        "\n",
        "g = Github(auth=auth)\n",
        "author_filter = g.get_user().login\n",
        "\n",
        "commits_per_repo = defaultdict(list)\n",
        "\n",
        "for org_name in github_organizations:\n",
        "  org = g.get_organization(org_name)\n",
        "  for repo in org.get_repos():\n",
        "    commits = repo.get_commits(since=date_start, until=date_end, author=author_filter)\n",
        "    try:\n",
        "      count = commits.totalCount\n",
        "    except:\n",
        "      count = 0\n",
        "    if count > 0:\n",
        "      for commit in commits:\n",
        "        commits_per_repo[org.name + \" -> \" + repo.name].append(commit.commit.message)\n"
      ]
    },
    {
      "cell_type": "code",
      "execution_count": null,
      "metadata": {
        "id": "vJHIY7z3lxSc"
      },
      "outputs": [],
      "source": [
        "for repo in commits_per_repo.keys():\n",
        "  commits = commits_per_repo[repo]\n",
        "\n",
        "  summary_messages = [\n",
        "      {\n",
        "          \"role\": \"user\",\n",
        "          \"content\": \"Write one sentence summary in past tense on the work done based on commit messages. \" +\n",
        "                     \"Keep it not more then 20 words. \" +\n",
        "                     \"Exclude mentions of pull requests, commits and merges. \" +\n",
        "                     \"Commits: \" + \"\\n\".join(commits)}\n",
        "  ]\n",
        "\n",
        "  output = pipe(summary_messages, **generation_args)\n",
        "  print(\"=\"*60)\n",
        "  print(repo)\n",
        "  print(\"-\"*60)\n",
        "  summary = output[0]['generated_text']\n",
        "  print(summary)\n",
        "  print(\"-\"*60)\n",
        "  translate_messages = [\n",
        "        {\"role\": \"assistant\", \"content\": \"I am usefull assistant that can translate summary of developemt work from english to ukranian\"},\n",
        "        {\"role\": \"user\", \"content\": \"Fixed issues related to seeds and restoring files\"},\n",
        "        {\"role\": \"assistant\", \"content\": \"Виправив помилки пов'язаних із сідами та відновлення файлів\"},\n",
        "        {\"role\": \"user\", \"content\": \"Added additional fields to Address\"},\n",
        "        {\"role\": \"assistant\", \"content\": \"Додав додаткові поля до Адреси\"},\n",
        "        {\"role\": \"user\", \"content\": \"Refactored exception handling, enhanced code documentation and updated dependencies\"},\n",
        "        {\"role\": \"assistant\", \"content\": \"Відрефакторив обробку помилок, покращив документацію коду і оновив залежності\"},\n",
        "        {\"role\": \"user\", \"content\": summary}\n",
        "  ]\n",
        "  output = pipe(translate_messages, **generation_args)\n",
        "  translated_summary = output[0]['generated_text']\n",
        "  print(translated_summary)\n",
        "  print(\"=\"*60)"
      ]
    },
    {
      "cell_type": "markdown",
      "metadata": {
        "id": "AOh4sabkfg9j"
      },
      "source": []
    }
  ],
  "metadata": {
    "accelerator": "GPU",
    "colab": {
      "gpuType": "T4",
      "provenance": [],
      "include_colab_link": true
    },
    "kernelspec": {
      "display_name": "Python 3",
      "name": "python3"
    },
    "language_info": {
      "name": "python"
    }
  },
  "nbformat": 4,
  "nbformat_minor": 0
}